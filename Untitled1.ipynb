{
 "cells": [
  {
   "cell_type": "code",
   "execution_count": null,
   "id": "029e35f8",
   "metadata": {},
   "outputs": [],
   "source": [
    "%run server3.py"
   ]
  },
  {
   "cell_type": "code",
   "execution_count": null,
   "id": "852454eb",
   "metadata": {},
   "outputs": [],
   "source": [
    "%run client3.py"
   ]
  }
 ],
 "metadata": {
  "kernelspec": {
   "display_name": "Python 3 (ipykernel)",
   "language": "python",
   "name": "python3"
  },
  "language_info": {
   "codemirror_mode": {
    "name": "ipython",
    "version": 3
   },
   "file_extension": ".py",
   "mimetype": "text/x-python",
   "name": "python",
   "nbconvert_exporter": "python",
   "pygments_lexer": "ipython3",
   "version": "3.11.5"
  }
 },
 "nbformat": 4,
 "nbformat_minor": 5
}
